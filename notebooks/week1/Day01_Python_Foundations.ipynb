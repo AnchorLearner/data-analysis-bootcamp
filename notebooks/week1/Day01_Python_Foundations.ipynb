{
 "cells": [
  {
   "cell_type": "markdown",
   "id": "ef50fa78-097c-4b4c-b3bd-06487aab7453",
   "metadata": {},
   "source": [
    "# Day 01: Python Foundations\n",
    "\n",
    "**Objectives:**\n",
    "- Understand Python basics: variables, types, input/output\n",
    "- Learn how to write and run simple scripts\n",
    "- Use print and basic functions\n",
    "\n",
    "**Date:** 2025-08-04\n"
   ]
  },
  {
   "cell_type": "code",
   "execution_count": 1,
   "id": "65784ad1-c0e6-437c-9e88-6aebcc41bf03",
   "metadata": {},
   "outputs": [
    {
     "name": "stdout",
     "output_type": "stream",
     "text": [
      "Name: Wal\n",
      "Age: 25\n",
      "Height: 5.9\n",
      "Student? True\n"
     ]
    }
   ],
   "source": [
    "# Let's define a few variables\n",
    "name = \"Wal\"\n",
    "age = 25\n",
    "height = 5.9\n",
    "is_student = True\n",
    "\n",
    "# Print them\n",
    "print(\"Name:\", name)\n",
    "print(\"Age:\", age)\n",
    "print(\"Height:\", height)\n",
    "print(\"Student?\", is_student)\n"
   ]
  },
  {
   "cell_type": "code",
   "execution_count": 2,
   "id": "7e860545-255e-4278-bc53-b8980192d0f0",
   "metadata": {},
   "outputs": [
    {
     "name": "stdout",
     "output_type": "stream",
     "text": [
      "<class 'str'>\n",
      "<class 'int'>\n",
      "<class 'float'>\n",
      "<class 'bool'>\n"
     ]
    }
   ],
   "source": [
    "# Check the types of variables\n",
    "print(type(name))     # str\n",
    "print(type(age))      # int\n",
    "print(type(height))   # float\n",
    "print(type(is_student))  # bool\n"
   ]
  },
  {
   "cell_type": "code",
   "execution_count": 3,
   "id": "323c8248-84ce-46ad-a7e7-60bcf1934204",
   "metadata": {},
   "outputs": [
    {
     "name": "stdin",
     "output_type": "stream",
     "text": [
      "What is your name?  many\n"
     ]
    },
    {
     "name": "stdout",
     "output_type": "stream",
     "text": [
      "Hello, many\n"
     ]
    }
   ],
   "source": [
    "# Getting input from the user\n",
    "user_name = input(\"What is your name? \")\n",
    "print(\"Hello,\", user_name)\n"
   ]
  },
  {
   "cell_type": "code",
   "execution_count": 4,
   "id": "afd9ae73-6c40-4a30-bcdb-fed0263573a2",
   "metadata": {},
   "outputs": [
    {
     "name": "stdout",
     "output_type": "stream",
     "text": [
      "Addition: 13\n",
      "Subtraction: 7\n",
      "Multiplication: 30\n",
      "Division: 3.3333333333333335\n",
      "Modulus: 1\n",
      "Exponent: 1000\n"
     ]
    }
   ],
   "source": [
    "# Arithmetic operations\n",
    "a = 10\n",
    "b = 3\n",
    "\n",
    "print(\"Addition:\", a + b)\n",
    "print(\"Subtraction:\", a - b)\n",
    "print(\"Multiplication:\", a * b)\n",
    "print(\"Division:\", a / b)\n",
    "print(\"Modulus:\", a % b)\n",
    "print(\"Exponent:\", a ** b)\n"
   ]
  },
  {
   "cell_type": "markdown",
   "id": "2472a96a-826c-4881-8bd9-b9ec93ffeba3",
   "metadata": {},
   "source": [
    "## Reflection\n",
    "\n",
    "What did I learn today about Python?\n",
    "What confused me?\n",
    "What do I want to practice tomorrow?\n"
   ]
  }
 ],
 "metadata": {
  "kernelspec": {
   "display_name": "Python 3.12 (my-venv)",
   "language": "python",
   "name": "my-python-3.12"
  },
  "language_info": {
   "codemirror_mode": {
    "name": "ipython",
    "version": 3
   },
   "file_extension": ".py",
   "mimetype": "text/x-python",
   "name": "python",
   "nbconvert_exporter": "python",
   "pygments_lexer": "ipython3",
   "version": "3.12.3"
  }
 },
 "nbformat": 4,
 "nbformat_minor": 5
}
